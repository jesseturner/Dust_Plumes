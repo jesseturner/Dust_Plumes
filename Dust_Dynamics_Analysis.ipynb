{
 "cells": [
  {
   "cell_type": "code",
   "execution_count": 1,
   "id": "6f9639d1-f394-4541-89c6-05da76196510",
   "metadata": {},
   "outputs": [],
   "source": [
    "import pandas as pd\n",
    "import xarray as xr\n",
    "import matplotlib.pyplot as plt\n",
    "import numpy as np\n",
    "import cartopy.crs as ccrs\n",
    "import cartopy.feature as cfeature\n",
    "from datetime import datetime"
   ]
  },
  {
   "cell_type": "markdown",
   "id": "9aadc252-dd2a-45df-a44b-5a826cfc9b0e",
   "metadata": {},
   "source": [
    "### Loading Bill Line dust climatology: "
   ]
  },
  {
   "cell_type": "code",
   "execution_count": 2,
   "id": "5fb6659e-4af6-43f2-916a-7a702aad802e",
   "metadata": {},
   "outputs": [],
   "source": [
    "df = pd.read_csv('Dust_LatLon_Drobo_Complete_June2022_Jesse - Data LatLon.csv')"
   ]
  },
  {
   "cell_type": "code",
   "execution_count": 3,
   "id": "394b3345-91c1-4d37-9c7c-a5f691e3f92a",
   "metadata": {},
   "outputs": [],
   "source": [
    "df_dust = df[df[\"Jesse Check\"] == \"x\"]"
   ]
  },
  {
   "cell_type": "code",
   "execution_count": 4,
   "id": "43535732-f342-4ea7-8d66-b1f9651d64fa",
   "metadata": {},
   "outputs": [
    {
     "data": {
      "text/html": [
       "<div>\n",
       "<style scoped>\n",
       "    .dataframe tbody tr th:only-of-type {\n",
       "        vertical-align: middle;\n",
       "    }\n",
       "\n",
       "    .dataframe tbody tr th {\n",
       "        vertical-align: top;\n",
       "    }\n",
       "\n",
       "    .dataframe thead th {\n",
       "        text-align: right;\n",
       "    }\n",
       "</style>\n",
       "<table border=\"1\" class=\"dataframe\">\n",
       "  <thead>\n",
       "    <tr style=\"text-align: right;\">\n",
       "      <th></th>\n",
       "      <th>Date (YYYYMMDD)</th>\n",
       "      <th>YYYY</th>\n",
       "      <th>M</th>\n",
       "      <th>D</th>\n",
       "      <th>latitude</th>\n",
       "      <th>longitude</th>\n",
       "      <th>start time (UTC)</th>\n",
       "      <th>Jesse Check</th>\n",
       "      <th>Notes</th>\n",
       "      <th>New GOES Notes</th>\n",
       "      <th>Julian day</th>\n",
       "      <th>GOES Raw</th>\n",
       "      <th>GOES Images</th>\n",
       "      <th>Unnamed: 13</th>\n",
       "      <th>Unnamed: 14</th>\n",
       "      <th>Unnamed: 15</th>\n",
       "    </tr>\n",
       "  </thead>\n",
       "  <tbody>\n",
       "    <tr>\n",
       "      <th>24</th>\n",
       "      <td>20010116.0</td>\n",
       "      <td>2001.0</td>\n",
       "      <td>1.0</td>\n",
       "      <td>16.0</td>\n",
       "      <td>30.3</td>\n",
       "      <td>-107.4</td>\n",
       "      <td>1900.0</td>\n",
       "      <td>x</td>\n",
       "      <td>NaN</td>\n",
       "      <td>Northern CHH</td>\n",
       "      <td>NaN</td>\n",
       "      <td>NaN</td>\n",
       "      <td>NaN</td>\n",
       "      <td>NaN</td>\n",
       "      <td>NaN</td>\n",
       "      <td>20010504.0</td>\n",
       "    </tr>\n",
       "    <tr>\n",
       "      <th>25</th>\n",
       "      <td>20010116.0</td>\n",
       "      <td>2001.0</td>\n",
       "      <td>1.0</td>\n",
       "      <td>16.0</td>\n",
       "      <td>29.3</td>\n",
       "      <td>-106.9</td>\n",
       "      <td>1900.0</td>\n",
       "      <td>x</td>\n",
       "      <td>NaN</td>\n",
       "      <td>Central CHH</td>\n",
       "      <td>NaN</td>\n",
       "      <td>NaN</td>\n",
       "      <td>NaN</td>\n",
       "      <td>NaN</td>\n",
       "      <td>NaN</td>\n",
       "      <td>20010505.0</td>\n",
       "    </tr>\n",
       "    <tr>\n",
       "      <th>26</th>\n",
       "      <td>20010116.0</td>\n",
       "      <td>2001.0</td>\n",
       "      <td>1.0</td>\n",
       "      <td>16.0</td>\n",
       "      <td>28.6</td>\n",
       "      <td>-106.7</td>\n",
       "      <td>1930.0</td>\n",
       "      <td>x</td>\n",
       "      <td>NaN</td>\n",
       "      <td>Subtle, Central CHH</td>\n",
       "      <td>NaN</td>\n",
       "      <td>NaN</td>\n",
       "      <td>NaN</td>\n",
       "      <td>NaN</td>\n",
       "      <td>NaN</td>\n",
       "      <td>20010516.0</td>\n",
       "    </tr>\n",
       "    <tr>\n",
       "      <th>27</th>\n",
       "      <td>20010125.0</td>\n",
       "      <td>2001.0</td>\n",
       "      <td>1.0</td>\n",
       "      <td>25.0</td>\n",
       "      <td>31.1</td>\n",
       "      <td>-107.9</td>\n",
       "      <td>1930.0</td>\n",
       "      <td>x</td>\n",
       "      <td>NaN</td>\n",
       "      <td>Northern CHH</td>\n",
       "      <td>NaN</td>\n",
       "      <td>NaN</td>\n",
       "      <td>NaN</td>\n",
       "      <td>NaN</td>\n",
       "      <td>NaN</td>\n",
       "      <td>20010517.0</td>\n",
       "    </tr>\n",
       "    <tr>\n",
       "      <th>28</th>\n",
       "      <td>20010127.0</td>\n",
       "      <td>2001.0</td>\n",
       "      <td>1.0</td>\n",
       "      <td>27.0</td>\n",
       "      <td>31.2</td>\n",
       "      <td>-107.9</td>\n",
       "      <td>2000.0</td>\n",
       "      <td>x</td>\n",
       "      <td>NaN</td>\n",
       "      <td>Cloud coverage, northern CHH</td>\n",
       "      <td>NaN</td>\n",
       "      <td>NaN</td>\n",
       "      <td>NaN</td>\n",
       "      <td>NaN</td>\n",
       "      <td>NaN</td>\n",
       "      <td>20010520.0</td>\n",
       "    </tr>\n",
       "    <tr>\n",
       "      <th>...</th>\n",
       "      <td>...</td>\n",
       "      <td>...</td>\n",
       "      <td>...</td>\n",
       "      <td>...</td>\n",
       "      <td>...</td>\n",
       "      <td>...</td>\n",
       "      <td>...</td>\n",
       "      <td>...</td>\n",
       "      <td>...</td>\n",
       "      <td>...</td>\n",
       "      <td>...</td>\n",
       "      <td>...</td>\n",
       "      <td>...</td>\n",
       "      <td>...</td>\n",
       "      <td>...</td>\n",
       "      <td>...</td>\n",
       "    </tr>\n",
       "    <tr>\n",
       "      <th>2349</th>\n",
       "      <td>20201223.0</td>\n",
       "      <td>2020.0</td>\n",
       "      <td>12.0</td>\n",
       "      <td>23.0</td>\n",
       "      <td>38.0</td>\n",
       "      <td>-101.7</td>\n",
       "      <td>1530.0</td>\n",
       "      <td>x</td>\n",
       "      <td>NaN</td>\n",
       "      <td>KS</td>\n",
       "      <td>NaN</td>\n",
       "      <td>NaN</td>\n",
       "      <td>NaN</td>\n",
       "      <td>NaN</td>\n",
       "      <td>NaN</td>\n",
       "      <td>NaN</td>\n",
       "    </tr>\n",
       "    <tr>\n",
       "      <th>2350</th>\n",
       "      <td>20201229.0</td>\n",
       "      <td>2020.0</td>\n",
       "      <td>12.0</td>\n",
       "      <td>29.0</td>\n",
       "      <td>29.3</td>\n",
       "      <td>-106.8</td>\n",
       "      <td>1930.0</td>\n",
       "      <td>x</td>\n",
       "      <td>NaN</td>\n",
       "      <td>CHH</td>\n",
       "      <td>NaN</td>\n",
       "      <td>NaN</td>\n",
       "      <td>NaN</td>\n",
       "      <td>NaN</td>\n",
       "      <td>NaN</td>\n",
       "      <td>NaN</td>\n",
       "    </tr>\n",
       "    <tr>\n",
       "      <th>2351</th>\n",
       "      <td>20201229.0</td>\n",
       "      <td>2020.0</td>\n",
       "      <td>12.0</td>\n",
       "      <td>29.0</td>\n",
       "      <td>28.9</td>\n",
       "      <td>-106.9</td>\n",
       "      <td>1930.0</td>\n",
       "      <td>x</td>\n",
       "      <td>NaN</td>\n",
       "      <td>CHH</td>\n",
       "      <td>NaN</td>\n",
       "      <td>NaN</td>\n",
       "      <td>NaN</td>\n",
       "      <td>NaN</td>\n",
       "      <td>NaN</td>\n",
       "      <td>NaN</td>\n",
       "    </tr>\n",
       "    <tr>\n",
       "      <th>2352</th>\n",
       "      <td>20201229.0</td>\n",
       "      <td>2020.0</td>\n",
       "      <td>12.0</td>\n",
       "      <td>29.0</td>\n",
       "      <td>29.0</td>\n",
       "      <td>-104.8</td>\n",
       "      <td>2000.0</td>\n",
       "      <td>x</td>\n",
       "      <td>NaN</td>\n",
       "      <td>CHH</td>\n",
       "      <td>NaN</td>\n",
       "      <td>NaN</td>\n",
       "      <td>NaN</td>\n",
       "      <td>NaN</td>\n",
       "      <td>NaN</td>\n",
       "      <td>NaN</td>\n",
       "    </tr>\n",
       "    <tr>\n",
       "      <th>2353</th>\n",
       "      <td>20201229.0</td>\n",
       "      <td>2020.0</td>\n",
       "      <td>12.0</td>\n",
       "      <td>29.0</td>\n",
       "      <td>29.0</td>\n",
       "      <td>-105.8</td>\n",
       "      <td>2100.0</td>\n",
       "      <td>x</td>\n",
       "      <td>NaN</td>\n",
       "      <td>CHH</td>\n",
       "      <td>NaN</td>\n",
       "      <td>NaN</td>\n",
       "      <td>NaN</td>\n",
       "      <td>NaN</td>\n",
       "      <td>NaN</td>\n",
       "      <td>NaN</td>\n",
       "    </tr>\n",
       "  </tbody>\n",
       "</table>\n",
       "<p>2202 rows × 16 columns</p>\n",
       "</div>"
      ],
      "text/plain": [
       "      Date (YYYYMMDD)    YYYY     M     D  latitude  longitude  \\\n",
       "24         20010116.0  2001.0   1.0  16.0      30.3     -107.4   \n",
       "25         20010116.0  2001.0   1.0  16.0      29.3     -106.9   \n",
       "26         20010116.0  2001.0   1.0  16.0      28.6     -106.7   \n",
       "27         20010125.0  2001.0   1.0  25.0      31.1     -107.9   \n",
       "28         20010127.0  2001.0   1.0  27.0      31.2     -107.9   \n",
       "...               ...     ...   ...   ...       ...        ...   \n",
       "2349       20201223.0  2020.0  12.0  23.0      38.0     -101.7   \n",
       "2350       20201229.0  2020.0  12.0  29.0      29.3     -106.8   \n",
       "2351       20201229.0  2020.0  12.0  29.0      28.9     -106.9   \n",
       "2352       20201229.0  2020.0  12.0  29.0      29.0     -104.8   \n",
       "2353       20201229.0  2020.0  12.0  29.0      29.0     -105.8   \n",
       "\n",
       "      start time (UTC) Jesse Check Notes                New GOES Notes  \\\n",
       "24              1900.0           x   NaN                  Northern CHH   \n",
       "25              1900.0           x   NaN                   Central CHH   \n",
       "26              1930.0           x   NaN           Subtle, Central CHH   \n",
       "27              1930.0           x   NaN                  Northern CHH   \n",
       "28              2000.0           x   NaN  Cloud coverage, northern CHH   \n",
       "...                ...         ...   ...                           ...   \n",
       "2349            1530.0           x   NaN                            KS   \n",
       "2350            1930.0           x   NaN                           CHH   \n",
       "2351            1930.0           x   NaN                           CHH   \n",
       "2352            2000.0           x   NaN                           CHH   \n",
       "2353            2100.0           x   NaN                           CHH   \n",
       "\n",
       "      Julian day GOES Raw GOES Images  Unnamed: 13  Unnamed: 14  Unnamed: 15  \n",
       "24           NaN      NaN         NaN          NaN          NaN   20010504.0  \n",
       "25           NaN      NaN         NaN          NaN          NaN   20010505.0  \n",
       "26           NaN      NaN         NaN          NaN          NaN   20010516.0  \n",
       "27           NaN      NaN         NaN          NaN          NaN   20010517.0  \n",
       "28           NaN      NaN         NaN          NaN          NaN   20010520.0  \n",
       "...          ...      ...         ...          ...          ...          ...  \n",
       "2349         NaN      NaN         NaN          NaN          NaN          NaN  \n",
       "2350         NaN      NaN         NaN          NaN          NaN          NaN  \n",
       "2351         NaN      NaN         NaN          NaN          NaN          NaN  \n",
       "2352         NaN      NaN         NaN          NaN          NaN          NaN  \n",
       "2353         NaN      NaN         NaN          NaN          NaN          NaN  \n",
       "\n",
       "[2202 rows x 16 columns]"
      ]
     },
     "execution_count": 4,
     "metadata": {},
     "output_type": "execute_result"
    }
   ],
   "source": [
    "df_dust"
   ]
  },
  {
   "cell_type": "code",
   "execution_count": 5,
   "id": "4f99346b-c1b5-4969-aced-b42c41a00488",
   "metadata": {},
   "outputs": [],
   "source": [
    "df_dust_CHH = df_dust[(df_dust[\"latitude\"] > 30) & (df_dust[\"latitude\"] < 33) & (df_dust[\"longitude\"] < -105) & (df_dust[\"longitude\"] > -110)]"
   ]
  },
  {
   "cell_type": "code",
   "execution_count": 6,
   "id": "e97c9b09-fde0-43fd-9c98-428f919fc777",
   "metadata": {},
   "outputs": [],
   "source": [
    "dates = df_dust_CHH['Date (YYYYMMDD)'].unique()"
   ]
  },
  {
   "cell_type": "code",
   "execution_count": 8,
   "id": "d2ccd8f6-9cf1-4876-b342-8b80ee5b5806",
   "metadata": {},
   "outputs": [],
   "source": [
    "dates = np.array(dates.astype(int).astype(str))"
   ]
  },
  {
   "cell_type": "markdown",
   "id": "1e5fd7df-abb7-4989-b667-26714f45dac6",
   "metadata": {},
   "source": [
    "Save the dust dates as a CSV:"
   ]
  },
  {
   "cell_type": "code",
   "execution_count": 10,
   "id": "43499964-93da-4e15-a6ea-a0eec3ec0ea5",
   "metadata": {},
   "outputs": [
    {
     "data": {
      "text/plain": [
       "378"
      ]
     },
     "execution_count": 10,
     "metadata": {},
     "output_type": "execute_result"
    }
   ],
   "source": [
    "#--- Needs to be <600 for NARR composite app\n",
    "len(dates)"
   ]
  },
  {
   "cell_type": "code",
   "execution_count": 11,
   "id": "6c42b05e-e37d-4ab2-b867-5e644a3863aa",
   "metadata": {},
   "outputs": [],
   "source": [
    "np.savetxt('dust_dates.txt', dates, fmt='%s')"
   ]
  },
  {
   "cell_type": "markdown",
   "id": "81eda35e-c9fc-48f8-b04e-50d43ea8cc34",
   "metadata": {},
   "source": [
    "### Using monthly-mean geopotential height: \n",
    "* climatology averaged between 1981 and 2010\n",
    "* https://psl.noaa.gov/data/gridded/data.narr.html"
   ]
  },
  {
   "cell_type": "code",
   "execution_count": null,
   "id": "a7e5c750-90b5-4c4a-a0cc-24a1f0d610a5",
   "metadata": {},
   "outputs": [],
   "source": [
    "file = 'hgt_mon_ltm.nc'"
   ]
  },
  {
   "cell_type": "code",
   "execution_count": null,
   "id": "c0cc2a4e-6145-47ba-a3b0-4f6f74110b05",
   "metadata": {},
   "outputs": [],
   "source": [
    "hgt_ds = xr.open_dataset(file)"
   ]
  },
  {
   "cell_type": "code",
   "execution_count": null,
   "id": "55c93278-6050-4356-832e-cc3e33a552ce",
   "metadata": {},
   "outputs": [],
   "source": [
    "hgt_ds"
   ]
  },
  {
   "cell_type": "code",
   "execution_count": null,
   "id": "9fb97e10-8cf4-4381-902c-f54cf4e06b57",
   "metadata": {},
   "outputs": [],
   "source": [
    "level = 500  #hPa\n",
    "time = hgt_ds.time[0] #month\n",
    "\n",
    "hgt_ds_sel = hgt_ds.sel(level=level, time=time)"
   ]
  },
  {
   "cell_type": "code",
   "execution_count": null,
   "id": "efa24ca0-53c3-48e4-bac6-772a745b21dd",
   "metadata": {},
   "outputs": [],
   "source": [
    "hgt_ds_sel"
   ]
  },
  {
   "cell_type": "code",
   "execution_count": null,
   "id": "a1cf3892-b336-46ff-8667-cecc6a0fd130",
   "metadata": {},
   "outputs": [],
   "source": [
    "projection=ccrs.PlateCarree()\n",
    "fig,ax=plt.subplots(1, figsize=(12,12),subplot_kw={'projection': projection})\n",
    "cmap = plt.cm.Spectral_r\n",
    "levels = np.linspace(5000, 6000, 31)\n",
    "\n",
    "ax.set_extent([-125, -97, 24, 49], crs=ccrs.PlateCarree())\n",
    "c=ax.contourf(hgt_ds_sel.lon, hgt_ds_sel.lat, hgt_ds_sel.hgt, cmap=cmap, levels=levels, extend='both')\n",
    "clb=plt.colorbar(c, shrink=0.3, pad=0.02, ax=ax)\n",
    "ax.set_title('Monthly-mean geopotential height (Jan)')\n",
    "clb.set_label('meters (m)')\n",
    "\n",
    "\n",
    "ax.add_feature(cfeature.STATES)"
   ]
  },
  {
   "cell_type": "markdown",
   "id": "c176b77b-7faf-41df-9087-80752f5f2cf0",
   "metadata": {},
   "source": [
    "### Using daily-mean geopotential height: \n",
    "* climatology averaged between 1981 and 2010\n",
    "* https://psl.noaa.gov/data/gridded/data.narr.html"
   ]
  },
  {
   "cell_type": "code",
   "execution_count": null,
   "id": "a2cc9965-8e7a-4163-8b08-a535af1b213f",
   "metadata": {},
   "outputs": [],
   "source": [
    "file = 'hgt_day_ltm.nc'\n",
    "hgt_ds = xr.open_dataset(file)\n",
    "hgt_ds"
   ]
  },
  {
   "cell_type": "code",
   "execution_count": null,
   "id": "7bba8aef-49b1-469f-a7ca-d228262affc1",
   "metadata": {},
   "outputs": [],
   "source": [
    "level = 500  #hPa\n",
    "time = hgt_ds.time[0] #julian day\n",
    "\n",
    "hgt_ds_sel = hgt_ds.sel(level=level, time=time)"
   ]
  },
  {
   "cell_type": "code",
   "execution_count": null,
   "id": "30423785-813f-4666-be33-8712c2e0f7c5",
   "metadata": {},
   "outputs": [],
   "source": [
    "hgt_ds_sel"
   ]
  },
  {
   "cell_type": "markdown",
   "id": "ab148343-7a6c-4f20-a90d-417f7de84d8b",
   "metadata": {},
   "source": [
    "Filter the NARR data to only dust days:\n",
    "* maybe I should be using the hgt from each of these specific datetimes, instead of the average"
   ]
  },
  {
   "cell_type": "code",
   "execution_count": null,
   "id": "fd8367dd-f890-4c19-88e8-fa94259e2d1f",
   "metadata": {},
   "outputs": [],
   "source": [
    "df_dust[\"Date (YYYYMMDD)\"]"
   ]
  },
  {
   "cell_type": "code",
   "execution_count": null,
   "id": "b4f7f558-456a-4867-8135-ded73043f11e",
   "metadata": {},
   "outputs": [],
   "source": [
    "specific_days = ['2023-01-01', '2023-02-15', '2023-04-30']\n",
    "\n",
    "specific_dates = pd.to_datetime(specific_days)\n",
    "\n",
    "filtered_ds = ds.sel(time=specific_dates)"
   ]
  },
  {
   "cell_type": "code",
   "execution_count": null,
   "id": "dfa84219-b71f-48a6-85c4-f9e2549fe889",
   "metadata": {},
   "outputs": [],
   "source": [
    "projection=ccrs.PlateCarree()\n",
    "fig,ax=plt.subplots(1, figsize=(12,12),subplot_kw={'projection': projection})\n",
    "cmap = plt.cm.Spectral_r\n",
    "levels = np.linspace(5000, 6000, 31)\n",
    "\n",
    "ax.set_extent([-125, -97, 24, 49], crs=ccrs.PlateCarree())\n",
    "c=ax.contourf(hgt_ds_sel.lon, hgt_ds_sel.lat, hgt_ds_sel.hgt, cmap=cmap, levels=levels, extend='both')\n",
    "clb=plt.colorbar(c, shrink=0.3, pad=0.02, ax=ax)\n",
    "ax.set_title('Daily-mean geopotential height')\n",
    "clb.set_label('meters (m)')\n",
    "\n",
    "\n",
    "ax.add_feature(cfeature.STATES)"
   ]
  },
  {
   "cell_type": "code",
   "execution_count": null,
   "id": "bae9ca1c-b960-4464-9e1d-817454176034",
   "metadata": {},
   "outputs": [],
   "source": []
  }
 ],
 "metadata": {
  "kernelspec": {
   "display_name": "Python 3 (ipykernel)",
   "language": "python",
   "name": "python3"
  },
  "language_info": {
   "codemirror_mode": {
    "name": "ipython",
    "version": 3
   },
   "file_extension": ".py",
   "mimetype": "text/x-python",
   "name": "python",
   "nbconvert_exporter": "python",
   "pygments_lexer": "ipython3",
   "version": "3.9.0"
  }
 },
 "nbformat": 4,
 "nbformat_minor": 5
}
